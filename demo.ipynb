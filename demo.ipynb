{
 "cells": [
  {
   "cell_type": "code",
   "execution_count": 1,
   "metadata": {},
   "outputs": [],
   "source": [
    "import numpy as np\n",
    "import pandas as pd\n",
    "import matplotlib.pyplot as plt"
   ]
  },
  {
   "cell_type": "markdown",
   "metadata": {},
   "source": [
    "# Cau1"
   ]
  },
  {
   "cell_type": "code",
   "execution_count": 2,
   "metadata": {},
   "outputs": [],
   "source": [
    "df1 = pd.DataFrame({\n",
    "    'Tên':['A', 'B', 'C', 'D', 'E', 'F'],\n",
    "    'Giới tính':['Nam', 'Nữ', 'Nữ', 'Nam', 'Nam', 'Nam'],\n",
    "    'Test1':[5, 9, 9, 4, 10, 0],\n",
    "    'Test2':[6, 9, 9, 4, 8, 5],\n",
    "    'Test3':[7, 9, 9, 5, 9, 8]\n",
    "})"
   ]
  },
  {
   "cell_type": "code",
   "execution_count": 3,
   "metadata": {},
   "outputs": [],
   "source": [
    "df1['Tổng'] = df1['Test1'] + df1['Test2'] + df1['Test3']"
   ]
  },
  {
   "cell_type": "code",
   "execution_count": 4,
   "metadata": {},
   "outputs": [
    {
     "data": {
      "text/html": [
       "<div>\n",
       "<style scoped>\n",
       "    .dataframe tbody tr th:only-of-type {\n",
       "        vertical-align: middle;\n",
       "    }\n",
       "\n",
       "    .dataframe tbody tr th {\n",
       "        vertical-align: top;\n",
       "    }\n",
       "\n",
       "    .dataframe thead th {\n",
       "        text-align: right;\n",
       "    }\n",
       "</style>\n",
       "<table border=\"1\" class=\"dataframe\">\n",
       "  <thead>\n",
       "    <tr style=\"text-align: right;\">\n",
       "      <th></th>\n",
       "      <th>Tên</th>\n",
       "      <th>Giới tính</th>\n",
       "      <th>Test1</th>\n",
       "      <th>Test2</th>\n",
       "      <th>Test3</th>\n",
       "      <th>Tổng</th>\n",
       "    </tr>\n",
       "  </thead>\n",
       "  <tbody>\n",
       "    <tr>\n",
       "      <th>0</th>\n",
       "      <td>A</td>\n",
       "      <td>Nam</td>\n",
       "      <td>5</td>\n",
       "      <td>6</td>\n",
       "      <td>7</td>\n",
       "      <td>18</td>\n",
       "    </tr>\n",
       "    <tr>\n",
       "      <th>1</th>\n",
       "      <td>B</td>\n",
       "      <td>Nữ</td>\n",
       "      <td>9</td>\n",
       "      <td>9</td>\n",
       "      <td>9</td>\n",
       "      <td>27</td>\n",
       "    </tr>\n",
       "    <tr>\n",
       "      <th>2</th>\n",
       "      <td>C</td>\n",
       "      <td>Nữ</td>\n",
       "      <td>9</td>\n",
       "      <td>9</td>\n",
       "      <td>9</td>\n",
       "      <td>27</td>\n",
       "    </tr>\n",
       "    <tr>\n",
       "      <th>3</th>\n",
       "      <td>D</td>\n",
       "      <td>Nam</td>\n",
       "      <td>4</td>\n",
       "      <td>4</td>\n",
       "      <td>5</td>\n",
       "      <td>13</td>\n",
       "    </tr>\n",
       "    <tr>\n",
       "      <th>4</th>\n",
       "      <td>E</td>\n",
       "      <td>Nam</td>\n",
       "      <td>10</td>\n",
       "      <td>8</td>\n",
       "      <td>9</td>\n",
       "      <td>27</td>\n",
       "    </tr>\n",
       "    <tr>\n",
       "      <th>5</th>\n",
       "      <td>F</td>\n",
       "      <td>Nam</td>\n",
       "      <td>0</td>\n",
       "      <td>5</td>\n",
       "      <td>8</td>\n",
       "      <td>13</td>\n",
       "    </tr>\n",
       "  </tbody>\n",
       "</table>\n",
       "</div>"
      ],
      "text/plain": [
       "  Tên Giới tính  Test1  Test2  Test3  Tổng\n",
       "0   A       Nam      5      6      7    18\n",
       "1   B        Nữ      9      9      9    27\n",
       "2   C        Nữ      9      9      9    27\n",
       "3   D       Nam      4      4      5    13\n",
       "4   E       Nam     10      8      9    27\n",
       "5   F       Nam      0      5      8    13"
      ]
     },
     "execution_count": 4,
     "metadata": {},
     "output_type": "execute_result"
    }
   ],
   "source": [
    "df1"
   ]
  },
  {
   "cell_type": "code",
   "execution_count": 5,
   "metadata": {},
   "outputs": [
    {
     "name": "stdout",
     "output_type": "stream",
     "text": [
      " Mean Test1: 6.17\n",
      " Mode Test1: 9.00\n",
      " Median Test1: 7.00\n",
      " SD Test1: 3.87\n"
     ]
    }
   ],
   "source": [
    "print(' Mean Test1: %.2f' % df1['Test1'].mean())\n",
    "print(' Mode Test1: %.2f' % df1['Test1'].mode())\n",
    "print(' Median Test1: %.2f' % df1['Test1'].median())\n",
    "print(' SD Test1: %.2f' % df1['Test1'].std())"
   ]
  },
  {
   "cell_type": "code",
   "execution_count": 6,
   "metadata": {},
   "outputs": [
    {
     "name": "stdout",
     "output_type": "stream",
     "text": [
      " Mean Tổng: 20.83\n",
      " Mode Tổng: 27.00\n",
      " Median Tổng: 22.50\n",
      " SD Tổng: 7.00\n"
     ]
    }
   ],
   "source": [
    "print(' Mean Tổng: %.2f' % df1['Tổng'].mean())\n",
    "print(' Mode Tổng: %.2f' % df1['Tổng'].mode())\n",
    "print(' Median Tổng: %.2f' % df1['Tổng'].median())\n",
    "print(' SD Tổng: %.2f' % df1['Tổng'].std())"
   ]
  },
  {
   "cell_type": "code",
   "execution_count": 7,
   "metadata": {},
   "outputs": [
    {
     "name": "stdout",
     "output_type": "stream",
     "text": [
      " Mode giới tính: Nam\n"
     ]
    }
   ],
   "source": [
    "print(' Mode giới tính: %s' % df1['Giới tính'].mode()[0][:])"
   ]
  },
  {
   "cell_type": "code",
   "execution_count": 8,
   "metadata": {},
   "outputs": [
    {
     "name": "stdout",
     "output_type": "stream",
     "text": [
      " Mode tên: \n"
     ]
    },
    {
     "data": {
      "text/plain": [
       "0    A\n",
       "1    B\n",
       "2    C\n",
       "3    D\n",
       "4    E\n",
       "5    F\n",
       "dtype: object"
      ]
     },
     "execution_count": 8,
     "metadata": {},
     "output_type": "execute_result"
    }
   ],
   "source": [
    "print(' Mode tên: ' )\n",
    "df1['Tên'].mode()"
   ]
  },
  {
   "cell_type": "markdown",
   "metadata": {},
   "source": [
    "# Cau 2"
   ]
  },
  {
   "cell_type": "markdown",
   "metadata": {},
   "source": [
    "### a."
   ]
  },
  {
   "cell_type": "code",
   "execution_count": 9,
   "metadata": {},
   "outputs": [],
   "source": [
    "df2 = pd.read_csv('1.csv')"
   ]
  },
  {
   "cell_type": "code",
   "execution_count": 10,
   "metadata": {},
   "outputs": [
    {
     "data": {
      "text/html": [
       "<div>\n",
       "<style scoped>\n",
       "    .dataframe tbody tr th:only-of-type {\n",
       "        vertical-align: middle;\n",
       "    }\n",
       "\n",
       "    .dataframe tbody tr th {\n",
       "        vertical-align: top;\n",
       "    }\n",
       "\n",
       "    .dataframe thead th {\n",
       "        text-align: right;\n",
       "    }\n",
       "</style>\n",
       "<table border=\"1\" class=\"dataframe\">\n",
       "  <thead>\n",
       "    <tr style=\"text-align: right;\">\n",
       "      <th></th>\n",
       "      <th>CNTSCHID</th>\n",
       "      <th>CNT</th>\n",
       "      <th>STRATUM</th>\n",
       "      <th>SCHSIZE</th>\n",
       "      <th>CLSIZE</th>\n",
       "      <th>STRATIO</th>\n",
       "      <th>SCHLTYPE</th>\n",
       "      <th>REGION</th>\n",
       "      <th>OECD</th>\n",
       "      <th>AGE</th>\n",
       "      <th>...</th>\n",
       "      <th>PV1SCIE</th>\n",
       "      <th>PV1SCEP</th>\n",
       "      <th>PV1SCED</th>\n",
       "      <th>PV1SCID</th>\n",
       "      <th>PV1SKCO</th>\n",
       "      <th>PV1SKPE</th>\n",
       "      <th>PV1SSPH</th>\n",
       "      <th>PV1SSLI</th>\n",
       "      <th>PV1SSES</th>\n",
       "      <th>AREA</th>\n",
       "    </tr>\n",
       "  </thead>\n",
       "  <tbody>\n",
       "    <tr>\n",
       "      <th>0</th>\n",
       "      <td>70400001</td>\n",
       "      <td>VNM</td>\n",
       "      <td>VNM0313</td>\n",
       "      <td>883</td>\n",
       "      <td>18.0</td>\n",
       "      <td>22.075</td>\n",
       "      <td>3.0</td>\n",
       "      <td>SOUTH</td>\n",
       "      <td>0</td>\n",
       "      <td>15.58</td>\n",
       "      <td>...</td>\n",
       "      <td>475.612</td>\n",
       "      <td>NaN</td>\n",
       "      <td>NaN</td>\n",
       "      <td>NaN</td>\n",
       "      <td>NaN</td>\n",
       "      <td>NaN</td>\n",
       "      <td>NaN</td>\n",
       "      <td>NaN</td>\n",
       "      <td>NaN</td>\n",
       "      <td>URBAN</td>\n",
       "    </tr>\n",
       "    <tr>\n",
       "      <th>1</th>\n",
       "      <td>70400001</td>\n",
       "      <td>VNM</td>\n",
       "      <td>VNM0313</td>\n",
       "      <td>883</td>\n",
       "      <td>18.0</td>\n",
       "      <td>22.075</td>\n",
       "      <td>3.0</td>\n",
       "      <td>SOUTH</td>\n",
       "      <td>0</td>\n",
       "      <td>15.92</td>\n",
       "      <td>...</td>\n",
       "      <td>450.320</td>\n",
       "      <td>NaN</td>\n",
       "      <td>NaN</td>\n",
       "      <td>NaN</td>\n",
       "      <td>NaN</td>\n",
       "      <td>NaN</td>\n",
       "      <td>NaN</td>\n",
       "      <td>NaN</td>\n",
       "      <td>NaN</td>\n",
       "      <td>URBAN</td>\n",
       "    </tr>\n",
       "    <tr>\n",
       "      <th>2</th>\n",
       "      <td>70400001</td>\n",
       "      <td>VNM</td>\n",
       "      <td>VNM0313</td>\n",
       "      <td>883</td>\n",
       "      <td>18.0</td>\n",
       "      <td>22.075</td>\n",
       "      <td>3.0</td>\n",
       "      <td>SOUTH</td>\n",
       "      <td>0</td>\n",
       "      <td>15.42</td>\n",
       "      <td>...</td>\n",
       "      <td>405.787</td>\n",
       "      <td>NaN</td>\n",
       "      <td>NaN</td>\n",
       "      <td>NaN</td>\n",
       "      <td>NaN</td>\n",
       "      <td>NaN</td>\n",
       "      <td>NaN</td>\n",
       "      <td>NaN</td>\n",
       "      <td>NaN</td>\n",
       "      <td>URBAN</td>\n",
       "    </tr>\n",
       "    <tr>\n",
       "      <th>3</th>\n",
       "      <td>70400001</td>\n",
       "      <td>VNM</td>\n",
       "      <td>VNM0313</td>\n",
       "      <td>883</td>\n",
       "      <td>18.0</td>\n",
       "      <td>22.075</td>\n",
       "      <td>3.0</td>\n",
       "      <td>SOUTH</td>\n",
       "      <td>0</td>\n",
       "      <td>15.58</td>\n",
       "      <td>...</td>\n",
       "      <td>462.968</td>\n",
       "      <td>NaN</td>\n",
       "      <td>NaN</td>\n",
       "      <td>NaN</td>\n",
       "      <td>NaN</td>\n",
       "      <td>NaN</td>\n",
       "      <td>NaN</td>\n",
       "      <td>NaN</td>\n",
       "      <td>NaN</td>\n",
       "      <td>URBAN</td>\n",
       "    </tr>\n",
       "    <tr>\n",
       "      <th>4</th>\n",
       "      <td>70400001</td>\n",
       "      <td>VNM</td>\n",
       "      <td>VNM0313</td>\n",
       "      <td>883</td>\n",
       "      <td>18.0</td>\n",
       "      <td>22.075</td>\n",
       "      <td>3.0</td>\n",
       "      <td>SOUTH</td>\n",
       "      <td>0</td>\n",
       "      <td>15.92</td>\n",
       "      <td>...</td>\n",
       "      <td>453.736</td>\n",
       "      <td>NaN</td>\n",
       "      <td>NaN</td>\n",
       "      <td>NaN</td>\n",
       "      <td>NaN</td>\n",
       "      <td>NaN</td>\n",
       "      <td>NaN</td>\n",
       "      <td>NaN</td>\n",
       "      <td>NaN</td>\n",
       "      <td>URBAN</td>\n",
       "    </tr>\n",
       "  </tbody>\n",
       "</table>\n",
       "<p>5 rows × 44 columns</p>\n",
       "</div>"
      ],
      "text/plain": [
       "   CNTSCHID  CNT  STRATUM  SCHSIZE  CLSIZE  STRATIO  SCHLTYPE REGION  OECD  \\\n",
       "0  70400001  VNM  VNM0313      883    18.0   22.075       3.0  SOUTH     0   \n",
       "1  70400001  VNM  VNM0313      883    18.0   22.075       3.0  SOUTH     0   \n",
       "2  70400001  VNM  VNM0313      883    18.0   22.075       3.0  SOUTH     0   \n",
       "3  70400001  VNM  VNM0313      883    18.0   22.075       3.0  SOUTH     0   \n",
       "4  70400001  VNM  VNM0313      883    18.0   22.075       3.0  SOUTH     0   \n",
       "\n",
       "     AGE  ...  PV1SCIE PV1SCEP  PV1SCED  PV1SCID  PV1SKCO  PV1SKPE  PV1SSPH  \\\n",
       "0  15.58  ...  475.612     NaN      NaN      NaN      NaN      NaN      NaN   \n",
       "1  15.92  ...  450.320     NaN      NaN      NaN      NaN      NaN      NaN   \n",
       "2  15.42  ...  405.787     NaN      NaN      NaN      NaN      NaN      NaN   \n",
       "3  15.58  ...  462.968     NaN      NaN      NaN      NaN      NaN      NaN   \n",
       "4  15.92  ...  453.736     NaN      NaN      NaN      NaN      NaN      NaN   \n",
       "\n",
       "   PV1SSLI  PV1SSES   AREA  \n",
       "0      NaN      NaN  URBAN  \n",
       "1      NaN      NaN  URBAN  \n",
       "2      NaN      NaN  URBAN  \n",
       "3      NaN      NaN  URBAN  \n",
       "4      NaN      NaN  URBAN  \n",
       "\n",
       "[5 rows x 44 columns]"
      ]
     },
     "execution_count": 10,
     "metadata": {},
     "output_type": "execute_result"
    }
   ],
   "source": [
    "df2.head()"
   ]
  },
  {
   "cell_type": "code",
   "execution_count": 11,
   "metadata": {},
   "outputs": [
    {
     "data": {
      "text/html": [
       "<div>\n",
       "<style scoped>\n",
       "    .dataframe tbody tr th:only-of-type {\n",
       "        vertical-align: middle;\n",
       "    }\n",
       "\n",
       "    .dataframe tbody tr th {\n",
       "        vertical-align: top;\n",
       "    }\n",
       "\n",
       "    .dataframe thead th {\n",
       "        text-align: right;\n",
       "    }\n",
       "</style>\n",
       "<table border=\"1\" class=\"dataframe\">\n",
       "  <thead>\n",
       "    <tr style=\"text-align: right;\">\n",
       "      <th></th>\n",
       "      <th>CNTSCHID</th>\n",
       "      <th>CNT</th>\n",
       "      <th>STRATUM</th>\n",
       "      <th>SCHSIZE</th>\n",
       "      <th>CLSIZE</th>\n",
       "      <th>STRATIO</th>\n",
       "      <th>SCHLTYPE</th>\n",
       "      <th>REGION</th>\n",
       "      <th>OECD</th>\n",
       "      <th>AGE</th>\n",
       "      <th>...</th>\n",
       "      <th>PV1SCIE</th>\n",
       "      <th>PV1SCEP</th>\n",
       "      <th>PV1SCED</th>\n",
       "      <th>PV1SCID</th>\n",
       "      <th>PV1SKCO</th>\n",
       "      <th>PV1SKPE</th>\n",
       "      <th>PV1SSPH</th>\n",
       "      <th>PV1SSLI</th>\n",
       "      <th>PV1SSES</th>\n",
       "      <th>AREA</th>\n",
       "    </tr>\n",
       "  </thead>\n",
       "  <tbody>\n",
       "    <tr>\n",
       "      <th>5823</th>\n",
       "      <td>70400188</td>\n",
       "      <td>VNM</td>\n",
       "      <td>VNM0103</td>\n",
       "      <td>433</td>\n",
       "      <td>33.0</td>\n",
       "      <td>16.037</td>\n",
       "      <td>3.0</td>\n",
       "      <td>NORTH</td>\n",
       "      <td>0</td>\n",
       "      <td>15.50</td>\n",
       "      <td>...</td>\n",
       "      <td>386.580</td>\n",
       "      <td>NaN</td>\n",
       "      <td>NaN</td>\n",
       "      <td>NaN</td>\n",
       "      <td>NaN</td>\n",
       "      <td>NaN</td>\n",
       "      <td>NaN</td>\n",
       "      <td>NaN</td>\n",
       "      <td>NaN</td>\n",
       "      <td>REMOTE</td>\n",
       "    </tr>\n",
       "    <tr>\n",
       "      <th>5824</th>\n",
       "      <td>70400188</td>\n",
       "      <td>VNM</td>\n",
       "      <td>VNM0103</td>\n",
       "      <td>433</td>\n",
       "      <td>33.0</td>\n",
       "      <td>16.037</td>\n",
       "      <td>3.0</td>\n",
       "      <td>NORTH</td>\n",
       "      <td>0</td>\n",
       "      <td>16.08</td>\n",
       "      <td>...</td>\n",
       "      <td>382.469</td>\n",
       "      <td>NaN</td>\n",
       "      <td>NaN</td>\n",
       "      <td>NaN</td>\n",
       "      <td>NaN</td>\n",
       "      <td>NaN</td>\n",
       "      <td>NaN</td>\n",
       "      <td>NaN</td>\n",
       "      <td>NaN</td>\n",
       "      <td>REMOTE</td>\n",
       "    </tr>\n",
       "    <tr>\n",
       "      <th>5825</th>\n",
       "      <td>70400188</td>\n",
       "      <td>VNM</td>\n",
       "      <td>VNM0103</td>\n",
       "      <td>433</td>\n",
       "      <td>33.0</td>\n",
       "      <td>16.037</td>\n",
       "      <td>3.0</td>\n",
       "      <td>NORTH</td>\n",
       "      <td>0</td>\n",
       "      <td>15.33</td>\n",
       "      <td>...</td>\n",
       "      <td>413.580</td>\n",
       "      <td>NaN</td>\n",
       "      <td>NaN</td>\n",
       "      <td>NaN</td>\n",
       "      <td>NaN</td>\n",
       "      <td>NaN</td>\n",
       "      <td>NaN</td>\n",
       "      <td>NaN</td>\n",
       "      <td>NaN</td>\n",
       "      <td>REMOTE</td>\n",
       "    </tr>\n",
       "  </tbody>\n",
       "</table>\n",
       "<p>3 rows × 44 columns</p>\n",
       "</div>"
      ],
      "text/plain": [
       "      CNTSCHID  CNT  STRATUM  SCHSIZE  CLSIZE  STRATIO  SCHLTYPE REGION  OECD  \\\n",
       "5823  70400188  VNM  VNM0103      433    33.0   16.037       3.0  NORTH     0   \n",
       "5824  70400188  VNM  VNM0103      433    33.0   16.037       3.0  NORTH     0   \n",
       "5825  70400188  VNM  VNM0103      433    33.0   16.037       3.0  NORTH     0   \n",
       "\n",
       "        AGE  ...  PV1SCIE PV1SCEP  PV1SCED  PV1SCID  PV1SKCO  PV1SKPE  \\\n",
       "5823  15.50  ...  386.580     NaN      NaN      NaN      NaN      NaN   \n",
       "5824  16.08  ...  382.469     NaN      NaN      NaN      NaN      NaN   \n",
       "5825  15.33  ...  413.580     NaN      NaN      NaN      NaN      NaN   \n",
       "\n",
       "      PV1SSPH  PV1SSLI  PV1SSES    AREA  \n",
       "5823      NaN      NaN      NaN  REMOTE  \n",
       "5824      NaN      NaN      NaN  REMOTE  \n",
       "5825      NaN      NaN      NaN  REMOTE  \n",
       "\n",
       "[3 rows x 44 columns]"
      ]
     },
     "execution_count": 11,
     "metadata": {},
     "output_type": "execute_result"
    }
   ],
   "source": [
    "df2.tail(3)"
   ]
  },
  {
   "cell_type": "markdown",
   "metadata": {},
   "source": [
    "### b."
   ]
  },
  {
   "cell_type": "code",
   "execution_count": 12,
   "metadata": {},
   "outputs": [
    {
     "data": {
      "text/html": [
       "<div>\n",
       "<style scoped>\n",
       "    .dataframe tbody tr th:only-of-type {\n",
       "        vertical-align: middle;\n",
       "    }\n",
       "\n",
       "    .dataframe tbody tr th {\n",
       "        vertical-align: top;\n",
       "    }\n",
       "\n",
       "    .dataframe thead th {\n",
       "        text-align: right;\n",
       "    }\n",
       "</style>\n",
       "<table border=\"1\" class=\"dataframe\">\n",
       "  <thead>\n",
       "    <tr style=\"text-align: right;\">\n",
       "      <th></th>\n",
       "      <th>REGION</th>\n",
       "      <th>CNT</th>\n",
       "    </tr>\n",
       "  </thead>\n",
       "  <tbody>\n",
       "    <tr>\n",
       "      <th>0</th>\n",
       "      <td>CENTRAL</td>\n",
       "      <td>2006</td>\n",
       "    </tr>\n",
       "    <tr>\n",
       "      <th>1</th>\n",
       "      <td>NORTH</td>\n",
       "      <td>1958</td>\n",
       "    </tr>\n",
       "    <tr>\n",
       "      <th>2</th>\n",
       "      <td>SOUTH</td>\n",
       "      <td>1862</td>\n",
       "    </tr>\n",
       "  </tbody>\n",
       "</table>\n",
       "</div>"
      ],
      "text/plain": [
       "    REGION   CNT\n",
       "0  CENTRAL  2006\n",
       "1    NORTH  1958\n",
       "2    SOUTH  1862"
      ]
     },
     "execution_count": 12,
     "metadata": {},
     "output_type": "execute_result"
    }
   ],
   "source": [
    "df2_b = df2[['CNT', 'REGION']].groupby('REGION').agg('count')\n",
    "df2_b.reset_index()"
   ]
  },
  {
   "cell_type": "code",
   "execution_count": 13,
   "metadata": {},
   "outputs": [],
   "source": [
    "df2_b['Phần trăm'] = round(df2_b['CNT'] / df2_b['CNT'].sum() * 100, 2)"
   ]
  },
  {
   "cell_type": "code",
   "execution_count": 14,
   "metadata": {},
   "outputs": [],
   "source": [
    "df2_b.rename(columns={'CNT':'Số học sinh'}, inplace=True)"
   ]
  },
  {
   "cell_type": "code",
   "execution_count": 15,
   "metadata": {},
   "outputs": [
    {
     "data": {
      "text/html": [
       "<div>\n",
       "<style scoped>\n",
       "    .dataframe tbody tr th:only-of-type {\n",
       "        vertical-align: middle;\n",
       "    }\n",
       "\n",
       "    .dataframe tbody tr th {\n",
       "        vertical-align: top;\n",
       "    }\n",
       "\n",
       "    .dataframe thead th {\n",
       "        text-align: right;\n",
       "    }\n",
       "</style>\n",
       "<table border=\"1\" class=\"dataframe\">\n",
       "  <thead>\n",
       "    <tr style=\"text-align: right;\">\n",
       "      <th></th>\n",
       "      <th>Số học sinh</th>\n",
       "      <th>Phần trăm</th>\n",
       "    </tr>\n",
       "    <tr>\n",
       "      <th>REGION</th>\n",
       "      <th></th>\n",
       "      <th></th>\n",
       "    </tr>\n",
       "  </thead>\n",
       "  <tbody>\n",
       "    <tr>\n",
       "      <th>CENTRAL</th>\n",
       "      <td>2006</td>\n",
       "      <td>34.43</td>\n",
       "    </tr>\n",
       "    <tr>\n",
       "      <th>NORTH</th>\n",
       "      <td>1958</td>\n",
       "      <td>33.61</td>\n",
       "    </tr>\n",
       "    <tr>\n",
       "      <th>SOUTH</th>\n",
       "      <td>1862</td>\n",
       "      <td>31.96</td>\n",
       "    </tr>\n",
       "  </tbody>\n",
       "</table>\n",
       "</div>"
      ],
      "text/plain": [
       "         Số học sinh  Phần trăm\n",
       "REGION                         \n",
       "CENTRAL         2006      34.43\n",
       "NORTH           1958      33.61\n",
       "SOUTH           1862      31.96"
      ]
     },
     "execution_count": 15,
     "metadata": {},
     "output_type": "execute_result"
    }
   ],
   "source": [
    "df2_b"
   ]
  },
  {
   "cell_type": "markdown",
   "metadata": {},
   "source": [
    "### c."
   ]
  },
  {
   "cell_type": "code",
   "execution_count": 16,
   "metadata": {},
   "outputs": [
    {
     "name": "stdout",
     "output_type": "stream",
     "text": [
      "Trung bình pv1MATH: 496.08\n",
      "Độ lệch chuẩn pv1MATH: 81.53\n"
     ]
    }
   ],
   "source": [
    "print('Trung bình pv1MATH: %.2f' % df2['PV1MATH'].mean())\n",
    "print('Độ lệch chuẩn pv1MATH: %.2f' % df2['PV1MATH'].std())"
   ]
  },
  {
   "cell_type": "code",
   "execution_count": 17,
   "metadata": {},
   "outputs": [
    {
     "name": "stdout",
     "output_type": "stream",
     "text": [
      "Trung bình pv1READ: 489.88\n",
      "Độ lệch chuẩn pv1READ: 70.65\n"
     ]
    }
   ],
   "source": [
    "print('Trung bình pv1READ: %.2f' % df2['PV1READ'].mean())\n",
    "print('Độ lệch chuẩn pv1READ: %.2f' % df2['PV1READ'].std())"
   ]
  },
  {
   "cell_type": "code",
   "execution_count": 18,
   "metadata": {},
   "outputs": [
    {
     "name": "stdout",
     "output_type": "stream",
     "text": [
      "Trung bình pv1SCIE: 524.81\n",
      "Độ lệch chuẩn pv1SCIE: 74.95\n"
     ]
    }
   ],
   "source": [
    "print('Trung bình pv1SCIE: %.2f' % df2['PV1SCIE'].mean())\n",
    "print('Độ lệch chuẩn pv1SCIE: %.2f' % df2['PV1SCIE'].std())"
   ]
  },
  {
   "cell_type": "markdown",
   "metadata": {},
   "source": [
    "### d."
   ]
  },
  {
   "cell_type": "code",
   "execution_count": 19,
   "metadata": {},
   "outputs": [],
   "source": [
    "df2_d = df2[['CNT', 'REGION', 'AREA']].groupby(['REGION', 'AREA']).agg('count')"
   ]
  },
  {
   "cell_type": "code",
   "execution_count": 20,
   "metadata": {},
   "outputs": [
    {
     "data": {
      "text/html": [
       "<div>\n",
       "<style scoped>\n",
       "    .dataframe tbody tr th:only-of-type {\n",
       "        vertical-align: middle;\n",
       "    }\n",
       "\n",
       "    .dataframe tbody tr th {\n",
       "        vertical-align: top;\n",
       "    }\n",
       "\n",
       "    .dataframe thead th {\n",
       "        text-align: right;\n",
       "    }\n",
       "</style>\n",
       "<table border=\"1\" class=\"dataframe\">\n",
       "  <thead>\n",
       "    <tr style=\"text-align: right;\">\n",
       "      <th></th>\n",
       "      <th></th>\n",
       "      <th>CNT</th>\n",
       "    </tr>\n",
       "    <tr>\n",
       "      <th>REGION</th>\n",
       "      <th>AREA</th>\n",
       "      <th></th>\n",
       "    </tr>\n",
       "  </thead>\n",
       "  <tbody>\n",
       "    <tr>\n",
       "      <th rowspan=\"3\" valign=\"top\">CENTRAL</th>\n",
       "      <th>REMOTE</th>\n",
       "      <td>198</td>\n",
       "    </tr>\n",
       "    <tr>\n",
       "      <th>RURAL</th>\n",
       "      <td>857</td>\n",
       "    </tr>\n",
       "    <tr>\n",
       "      <th>URBAN</th>\n",
       "      <td>951</td>\n",
       "    </tr>\n",
       "    <tr>\n",
       "      <th rowspan=\"3\" valign=\"top\">NORTH</th>\n",
       "      <th>REMOTE</th>\n",
       "      <td>148</td>\n",
       "    </tr>\n",
       "    <tr>\n",
       "      <th>RURAL</th>\n",
       "      <td>764</td>\n",
       "    </tr>\n",
       "    <tr>\n",
       "      <th>URBAN</th>\n",
       "      <td>1046</td>\n",
       "    </tr>\n",
       "    <tr>\n",
       "      <th rowspan=\"3\" valign=\"top\">SOUTH</th>\n",
       "      <th>REMOTE</th>\n",
       "      <td>64</td>\n",
       "    </tr>\n",
       "    <tr>\n",
       "      <th>RURAL</th>\n",
       "      <td>747</td>\n",
       "    </tr>\n",
       "    <tr>\n",
       "      <th>URBAN</th>\n",
       "      <td>1051</td>\n",
       "    </tr>\n",
       "  </tbody>\n",
       "</table>\n",
       "</div>"
      ],
      "text/plain": [
       "                 CNT\n",
       "REGION  AREA        \n",
       "CENTRAL REMOTE   198\n",
       "        RURAL    857\n",
       "        URBAN    951\n",
       "NORTH   REMOTE   148\n",
       "        RURAL    764\n",
       "        URBAN   1046\n",
       "SOUTH   REMOTE    64\n",
       "        RURAL    747\n",
       "        URBAN   1051"
      ]
     },
     "execution_count": 20,
     "metadata": {},
     "output_type": "execute_result"
    }
   ],
   "source": [
    "df2_d.reset_index()\n",
    "df2_d"
   ]
  },
  {
   "cell_type": "code",
   "execution_count": 21,
   "metadata": {},
   "outputs": [],
   "source": [
    "region_lst = list(df2['REGION'].unique())\n",
    "area_lst = list(df2['AREA'].unique())"
   ]
  },
  {
   "cell_type": "code",
   "execution_count": 22,
   "metadata": {},
   "outputs": [
    {
     "name": "stdout",
     "output_type": "stream",
     "text": [
      "['SOUTH', 'CENTRAL', 'NORTH']\n",
      "['URBAN', 'RURAL', 'REMOTE']\n"
     ]
    }
   ],
   "source": [
    "print(region_lst)\n",
    "print(area_lst)"
   ]
  },
  {
   "cell_type": "code",
   "execution_count": 23,
   "metadata": {},
   "outputs": [],
   "source": [
    "df2_d['%'] = df2_d['CNT']"
   ]
  },
  {
   "cell_type": "code",
   "execution_count": 24,
   "metadata": {},
   "outputs": [],
   "source": [
    "for region in region_lst:\n",
    "    for area in area_lst:\n",
    "        df2_d.loc[(region, area),'%'] = round(df2_d.loc[region, area]['CNT'] / df2_d.loc[region]['CNT'].sum() * 100, 2)"
   ]
  },
  {
   "cell_type": "code",
   "execution_count": 25,
   "metadata": {},
   "outputs": [],
   "source": [
    "df2_d.rename(columns={'CNT':'N'}, inplace=True)"
   ]
  },
  {
   "cell_type": "code",
   "execution_count": 26,
   "metadata": {},
   "outputs": [
    {
     "data": {
      "text/html": [
       "<div>\n",
       "<style scoped>\n",
       "    .dataframe tbody tr th:only-of-type {\n",
       "        vertical-align: middle;\n",
       "    }\n",
       "\n",
       "    .dataframe tbody tr th {\n",
       "        vertical-align: top;\n",
       "    }\n",
       "\n",
       "    .dataframe thead th {\n",
       "        text-align: right;\n",
       "    }\n",
       "</style>\n",
       "<table border=\"1\" class=\"dataframe\">\n",
       "  <thead>\n",
       "    <tr style=\"text-align: right;\">\n",
       "      <th></th>\n",
       "      <th></th>\n",
       "      <th>N</th>\n",
       "      <th>%</th>\n",
       "    </tr>\n",
       "    <tr>\n",
       "      <th>REGION</th>\n",
       "      <th>AREA</th>\n",
       "      <th></th>\n",
       "      <th></th>\n",
       "    </tr>\n",
       "  </thead>\n",
       "  <tbody>\n",
       "    <tr>\n",
       "      <th rowspan=\"3\" valign=\"top\">CENTRAL</th>\n",
       "      <th>REMOTE</th>\n",
       "      <td>198</td>\n",
       "      <td>9.87</td>\n",
       "    </tr>\n",
       "    <tr>\n",
       "      <th>RURAL</th>\n",
       "      <td>857</td>\n",
       "      <td>42.72</td>\n",
       "    </tr>\n",
       "    <tr>\n",
       "      <th>URBAN</th>\n",
       "      <td>951</td>\n",
       "      <td>47.41</td>\n",
       "    </tr>\n",
       "    <tr>\n",
       "      <th rowspan=\"3\" valign=\"top\">NORTH</th>\n",
       "      <th>REMOTE</th>\n",
       "      <td>148</td>\n",
       "      <td>7.56</td>\n",
       "    </tr>\n",
       "    <tr>\n",
       "      <th>RURAL</th>\n",
       "      <td>764</td>\n",
       "      <td>39.02</td>\n",
       "    </tr>\n",
       "    <tr>\n",
       "      <th>URBAN</th>\n",
       "      <td>1046</td>\n",
       "      <td>53.42</td>\n",
       "    </tr>\n",
       "    <tr>\n",
       "      <th rowspan=\"3\" valign=\"top\">SOUTH</th>\n",
       "      <th>REMOTE</th>\n",
       "      <td>64</td>\n",
       "      <td>3.44</td>\n",
       "    </tr>\n",
       "    <tr>\n",
       "      <th>RURAL</th>\n",
       "      <td>747</td>\n",
       "      <td>40.12</td>\n",
       "    </tr>\n",
       "    <tr>\n",
       "      <th>URBAN</th>\n",
       "      <td>1051</td>\n",
       "      <td>56.44</td>\n",
       "    </tr>\n",
       "  </tbody>\n",
       "</table>\n",
       "</div>"
      ],
      "text/plain": [
       "                   N      %\n",
       "REGION  AREA               \n",
       "CENTRAL REMOTE   198   9.87\n",
       "        RURAL    857  42.72\n",
       "        URBAN    951  47.41\n",
       "NORTH   REMOTE   148   7.56\n",
       "        RURAL    764  39.02\n",
       "        URBAN   1046  53.42\n",
       "SOUTH   REMOTE    64   3.44\n",
       "        RURAL    747  40.12\n",
       "        URBAN   1051  56.44"
      ]
     },
     "execution_count": 26,
     "metadata": {},
     "output_type": "execute_result"
    }
   ],
   "source": [
    "df2_d"
   ]
  },
  {
   "cell_type": "markdown",
   "metadata": {},
   "source": [
    "### e."
   ]
  },
  {
   "cell_type": "code",
   "execution_count": 50,
   "metadata": {},
   "outputs": [
    {
     "data": {
      "image/png": "[encoded data removed]",
      "text/plain": [
       "<Figure size 1440x1440 with 3 Axes>"
      ]
     },
     "metadata": {},
     "output_type": "display_data"
    }
   ],
   "source": [
    "fig, (ax1, ax2, ax3) = plt.subplots(1, 3)\n",
    "fig.set_size_inches(20, 20)\n",
    "color = ['#8258FA', '#FA5882', '#58FAF4']\n",
    "\n",
    "ax1.pie(df2_d.loc['CENTRAL']['%'], labels=df2_d.loc['CENTRAL'].index, autopct='%1.2f%%', \n",
    "        shadow=True, startangle=90, explode = (0.5, 0, 0), colors = color)\n",
    "ax2.pie(df2_d.loc['NORTH']['%'], labels=df2_d.loc['NORTH'].index, autopct='%1.2f%%', \n",
    "        shadow=True, startangle=90, explode = (0.5, 0, 0), colors = color)\n",
    "ax3.pie(df2_d.loc['SOUTH']['%'], labels=df2_d.loc['SOUTH'].index, autopct='%1.2f%%', \n",
    "        shadow=True, startangle=90, explode = (0.5, 0, 0), colors = color)\n",
    "\n",
    "plt.axes(ax1)\n",
    "plt.title('CENTRAL', y=-0.01)\n",
    "plt.axes(ax2)\n",
    "plt.title('NORTH', y=-0.01)\n",
    "plt.axes(ax3)\n",
    "plt.title('SOUTH', y=-0.01)\n",
    "\n",
    "plt.show()"
   ]
  }
 ],
 "metadata": {
  "kernelspec": {
   "display_name": "Python 3",
   "language": "python",
   "name": "python3"
  },
  "language_info": {
   "codemirror_mode": {
    "name": "ipython",
    "version": 3
   },
   "file_extension": ".py",
   "mimetype": "text/x-python",
   "name": "python",
   "nbconvert_exporter": "python",
   "pygments_lexer": "ipython3",
   "version": "3.8.3"
  }
 },
 "nbformat": 4,
 "nbformat_minor": 4
}
